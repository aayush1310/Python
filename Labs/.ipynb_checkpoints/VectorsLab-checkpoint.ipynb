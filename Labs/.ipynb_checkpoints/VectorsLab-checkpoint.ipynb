{
 "cells": [
  {
   "cell_type": "code",
   "execution_count": 50,
   "metadata": {},
   "outputs": [
    {
     "name": "stdout",
     "output_type": "stream",
     "text": [
      "[1 1]\n"
     ]
    },
    {
     "data": {
      "image/png": "[encoded data removed]",
      "text/plain": [
       "<Figure size 432x288 with 1 Axes>"
      ]
     },
     "metadata": {
      "needs_background": "light"
     },
     "output_type": "display_data"
    }
   ],
   "source": [
    "#import numpy and matplotlib\n",
    "\n",
    "import numpy as np\n",
    "import matplotlib.pyplot as plt\n",
    "\n",
    "#Define vector v\n",
    "v = np.array([1,1])\n",
    "\n",
    "# Plots vector v as blue arrow with red dot at origin (0,0) using Matplotlib\n",
    "\n",
    "# Creates axes of plot referenced 'ax'\n",
    "ax = plt.axes()\n",
    "\n",
    "# Plots red dot at origin (0,0)\n",
    "ax.plot(0,0,'or')\n",
    "\n",
    "# Plots vector v as blue arrow starting at origin 0,0\n",
    "ax.arrow(0, 0, *v, color='b', linewidth=2.0, head_width=0.20, head_length=0.25)\n",
    "\n",
    "# Sets limit for plot for x-axis\n",
    "plt.xlim(-2,2)\n",
    "\n",
    "# Sets limit for plot for y-axis\n",
    "plt.ylim(-2,2)\n",
    "\n",
    "# Set major ticks for x-axis\n",
    "major_xticks = np.arange(-2, 3)\n",
    "ax.set_xticks(major_xticks)\n",
    "\n",
    "# Set major ticks for x-axis\n",
    "major_yticks = np.arange(-2, 3)\n",
    "ax.set_yticks(major_xticks)\n",
    "\n",
    "# Creates gridlines for only major tick marks\n",
    "plt.grid(b=True, which='major')\n",
    "\n",
    "# Displays final plot\n",
    "print(v)\n",
    "plt.show()"
   ]
  },
  {
   "cell_type": "code",
   "execution_count": 51,
   "metadata": {},
   "outputs": [
    {
     "name": "stdout",
     "output_type": "stream",
     "text": [
      "[1 1]\n"
     ]
    },
    {
     "data": {
      "image/png": "[encoded data removed]",
      "text/plain": [
       "<Figure size 432x288 with 1 Axes>"
      ]
     },
     "metadata": {
      "needs_background": "light"
     },
     "output_type": "display_data"
    }
   ],
   "source": [
    "\n",
    "#Define vector v\n",
    "v = np.array([1,1])\n",
    "\n",
    "# Define scalar a\n",
    "a = 3\n",
    "\n",
    "# TODO 1.: Define vector av - as vector v multiplied by scalar a\n",
    "av = a*v\n",
    "\n",
    "# Plots vector v as blue arrow with red dot at origin (0,0) using Matplotlib\n",
    "\n",
    "# Creates axes of plot referenced 'ax'\n",
    "ax = plt.axes()\n",
    "\n",
    "# Plots red dot at origin (0,0)\n",
    "ax.plot(0,0,'or')\n",
    "\n",
    "# Plots vector v as blue arrow starting at origin 0,0\n",
    "ax.arrow(0, 0, *v, color='b', linewidth=2.0, head_width=0.20, head_length=0.25)\n",
    "\n",
    "# TODO 2.: Plot vector av as dotted (linestyle='dotted') vector of cyan color (color='c') \n",
    "# using ax.arrow() statement above as template for the plot \n",
    "ax.arrow(0, 0, *av, color='g', linewidth=2.0, head_width=0.20, head_length=0.25)\n",
    "\n",
    "# Sets limit for plot for x-axis\n",
    "plt.xlim(-2,4)\n",
    "\n",
    "# Sets limit for plot for y-axis\n",
    "plt.ylim(-2,4)\n",
    "\n",
    "# Set major ticks for x-axis\n",
    "major_xticks = np.arange(-2, 5)\n",
    "ax.set_xticks(major_xticks)\n",
    "\n",
    "# Set major ticks for x-axis\n",
    "major_yticks = np.arange(-2, 5)\n",
    "ax.set_yticks(major_xticks)\n",
    "\n",
    "# Creates gridlines for only major tick marks\n",
    "plt.grid(b=True, which='major')\n",
    "\n",
    "# Displays final plot\n",
    "print(v)\n",
    "plt.show()"
   ]
  },
  {
   "cell_type": "code",
   "execution_count": 63,
   "metadata": {},
   "outputs": [
    {
     "name": "stdout",
     "output_type": "stream",
     "text": [
      "[-5  3]\n"
     ]
    },
    {
     "data": {
      "image/png": "[encoded data removed]",
      "text/plain": [
       "<Figure size 432x288 with 1 Axes>"
      ]
     },
     "metadata": {
      "needs_background": "light"
     },
     "output_type": "display_data"
    }
   ],
   "source": [
    "\n",
    "# Define vector v\n",
    "v = np.array([-5,3])\n",
    "\n",
    "# Define vector w\n",
    "w = np.array([4,3])\n",
    "\n",
    "# TODO 1.: Define vector av - as vector v multiplied by scalar a\n",
    "add = v+w\n",
    "\n",
    "# Plots vector v as blue arrow with red dot at origin (0,0) using Matplotlib\n",
    "\n",
    "# Creates axes of plot referenced 'ax'\n",
    "ax = plt.axes()\n",
    "\n",
    "# Plots red dot at origin (0,0)\n",
    "ax.plot(0,0,'or')\n",
    "\n",
    "# Plots vector v as blue arrow starting at origin 0,0\n",
    "ax.arrow(0, 0, *v, color='b', linewidth=2.0, head_width=0.20, head_length=0.25)\n",
    "\n",
    "# Plots vector w as blue arrow starting at origin 0,0\n",
    "ax.arrow(0, 0, *w, color='g', linewidth=2.0, head_width=0.20, head_length=0.25)\n",
    "\n",
    "# Plots vector v+w as blue arrow starting at origin 0,0\n",
    "ax.arrow(0, 0, *add, linestyle='dotted', color='r', linewidth=2.0, head_width=0.20, head_length=0.25)\n",
    "\n",
    "# Sets limit for plot for x-axis\n",
    "plt.xlim(-6,8)\n",
    "\n",
    "# Sets limit for plot for y-axis\n",
    "plt.ylim(-6,8)\n",
    "\n",
    "# Set major ticks for x-axis\n",
    "major_xticks = np.arange(-6, 8)\n",
    "ax.set_xticks(major_xticks)\n",
    "\n",
    "# Set major ticks for x-axis\n",
    "major_yticks = np.arange(-6, 8)\n",
    "ax.set_yticks(major_xticks)\n",
    "\n",
    "# Creates gridlines for only major tick marks\n",
    "plt.grid(b=True, which='major')\n",
    "\n",
    "# Displays final plot\n",
    "print(v)\n",
    "plt.show()"
   ]
  },
  {
   "cell_type": "code",
   "execution_count": null,
   "metadata": {},
   "outputs": [],
   "source": []
  }
 ],
 "metadata": {
  "kernelspec": {
   "display_name": "Python [conda env:FirstEnv] *",
   "language": "python",
   "name": "conda-env-FirstEnv-py"
  },
  "language_info": {
   "codemirror_mode": {
    "name": "ipython",
    "version": 3
   },
   "file_extension": ".py",
   "mimetype": "text/x-python",
   "name": "python",
   "nbconvert_exporter": "python",
   "pygments_lexer": "ipython3",
   "version": "3.7.3"
  }
 },
 "nbformat": 4,
 "nbformat_minor": 2
}
