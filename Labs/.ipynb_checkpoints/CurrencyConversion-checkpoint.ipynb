{
 "cells": [
  {
   "cell_type": "code",
   "execution_count": 4,
   "metadata": {},
   "outputs": [
    {
     "name": "stdout",
     "output_type": "stream",
     "text": [
      "     Amounts\n",
      "USD       70\n",
      "GBP      100\n",
      "JPY       20\n",
      "GBP       80\n",
      "CHF       40\n",
      "CAD       70\n",
      "AUD       60\n",
      "HKD      100\n"
     ]
    }
   ],
   "source": [
    "import numpy as np\n",
    "import pandas as pd\n",
    "\n",
    "# Create an numpy vector to from a list\n",
    "money = np.asarray([70,100,20,80,40,70,60,100])\n",
    "\n",
    "# Creates pandas dataframe with column labels(currency_label) from the numpy vector for printing.\n",
    "currency_label = [\"USD\",\"GBP\",\"JPY\",\"GBP\",\"CHF\",\"CAD\",\"AUD\",\"HKD\"]\n",
    "money_df = pd.DataFrame(data = money, index = currency_label,columns=[\"Amounts\"])\n",
    "print(money_df)"
   ]
  },
  {
   "cell_type": "code",
   "execution_count": 14,
   "metadata": {},
   "outputs": [
    {
     "name": "stdout",
     "output_type": "stream",
     "text": [
      "Weights Matrix: []\n"
     ]
    }
   ],
   "source": [
    "# Sets path variable to the 'path' of the CSV file that contains the conversion rates(weights) matrix.\n",
    "path = %pwd\n",
    "\n",
    "# Imports conversion rates(weights) matrix as a pandas dataframe.\n",
    "conversion_rates_df = pd.read_csv(path+\"/data.csv\",header=0,index_col=0, error_bad_lines=False)\n",
    "\n",
    "# Creates numpy matrix from a pandas dataframe to create the conversion rates(weights) matrix.\n",
    "conversion_rates = conversion_rates_df.values\n",
    "\n",
    "# Prints conversion rates matrix.\n",
    "print(\"Weights Matrix:\",conversion_rates)"
   ]
  },
  {
   "cell_type": "code",
   "execution_count": null,
   "metadata": {},
   "outputs": [],
   "source": []
  }
 ],
 "metadata": {
  "kernelspec": {
   "display_name": "Python [conda env:FirstEnv] *",
   "language": "python",
   "name": "conda-env-FirstEnv-py"
  },
  "language_info": {
   "codemirror_mode": {
    "name": "ipython",
    "version": 3
   },
   "file_extension": ".py",
   "mimetype": "text/x-python",
   "name": "python",
   "nbconvert_exporter": "python",
   "pygments_lexer": "ipython3",
   "version": "3.7.3"
  }
 },
 "nbformat": 4,
 "nbformat_minor": 2
}
